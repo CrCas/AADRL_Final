{
 "cells": [
  {
   "cell_type": "markdown",
   "metadata": {},
   "source": [
    "# Prepare the market data for the ensemble strategy presented in 'Deep Reinforcement Learning for Automated Stock Trading: An Ensemble Strategy'\n",
    "\n",
    "Note: At first, the 'agent_environment_data.csv' file was used for the ensemble strategy. Due to the retraining & validation window, the agent traded only until 2020-04-06. The market data will therefore be prolonged, so that the agent trades at least until 2020-06-12. Afterwards, the portfolio history of the agent will be read only until the 2020-06-12 to match the date in the testing data."
   ]
  },
  {
   "cell_type": "markdown",
   "metadata": {},
   "source": [
    "## Import Libraries"
   ]
  },
  {
   "cell_type": "code",
   "execution_count": 1,
   "metadata": {},
   "outputs": [],
   "source": [
    "import pandas as pd\n",
    "import sys \n",
    "sys.path.append('/Applications/Studium/Master/Masterarbeit/AADRL/')\n",
    "from preprocessing.preprocessor import Preprocessor\n"
   ]
  },
  {
   "cell_type": "markdown",
   "metadata": {},
   "source": [
    "## Read market data and create artifical sentiment data (to run preprocessor)"
   ]
  },
  {
   "cell_type": "code",
   "execution_count": 2,
   "metadata": {},
   "outputs": [],
   "source": [
    "# Read market data\n",
    "data = pd.read_csv(\n",
    "                r'/Applications/Studium/Master/Masterarbeit/AADRL/data/market_data.csv',\n",
    "                header=[0,1],\n",
    "                index_col=0\n",
    "                )"
   ]
  },
  {
   "cell_type": "code",
   "execution_count": 3,
   "metadata": {},
   "outputs": [],
   "source": [
    "# Define the multindex\n",
    "unique_tics = data.columns.get_level_values(1).unique()\n",
    "\n",
    "multindex = [\n",
    "    ['sentiment' for sentiment in unique_tics],\n",
    "    unique_tics\n",
    "]"
   ]
  },
  {
   "cell_type": "code",
   "execution_count": 4,
   "metadata": {},
   "outputs": [],
   "source": [
    "# Define the values for the sentiment dataframe\n",
    "data_sentiments = [[0 for i in unique_tics] for k in data.index]"
   ]
  },
  {
   "cell_type": "code",
   "execution_count": 5,
   "metadata": {},
   "outputs": [],
   "source": [
    "# Define the artifical sentiment dataframe. This is needed to work with the existing Preprocessing class (which needs a sentiment table).\n",
    "tuples = list(zip(*multindex))\n",
    "index = pd.MultiIndex.from_tuples(tuples)\n",
    "\n",
    "sentiments = pd.DataFrame(data_sentiments, columns=index, index=data.index)"
   ]
  },
  {
   "cell_type": "code",
   "execution_count": 6,
   "metadata": {},
   "outputs": [],
   "source": [
    "# Sentiments should start still on the same date as 'agent_environment_data.csv' (we are just prolonging the data at the end)\n",
    "sentiments = sentiments.loc[sentiments.index >= '2009-06-16']"
   ]
  },
  {
   "cell_type": "markdown",
   "metadata": {},
   "source": [
    "## Create the final market data"
   ]
  },
  {
   "cell_type": "code",
   "execution_count": 7,
   "metadata": {},
   "outputs": [],
   "source": [
    "# Define the preprocessor\n",
    "preprocessor = Preprocessor(data, sentiments)"
   ]
  },
  {
   "cell_type": "code",
   "execution_count": 8,
   "metadata": {},
   "outputs": [],
   "source": [
    "# Merge market data and sentiments\n",
    "preprocessor.merged_datasets = preprocessor._merge_datasets()"
   ]
  },
  {
   "cell_type": "code",
   "execution_count": 9,
   "metadata": {},
   "outputs": [],
   "source": [
    "# Calculate technical indicators\n",
    "preprocessor.add_MACD()\n",
    "preprocessor.add_RSI()\n",
    "preprocessor.add_ADX()\n",
    "preprocessor.add_CCI()"
   ]
  },
  {
   "cell_type": "code",
   "execution_count": 10,
   "metadata": {},
   "outputs": [],
   "source": [
    "# Drop nan\n",
    "final_data = preprocessor.merged_datasets.dropna()"
   ]
  },
  {
   "cell_type": "code",
   "execution_count": 11,
   "metadata": {},
   "outputs": [],
   "source": [
    "# Reshape the market data to match the format of the data of the ensemble strategy\n",
    "df_unstacked = final_data.unstack().reset_index()\n",
    "\n",
    "df_pivot = df_unstacked.pivot_table(\n",
    "                            index=['Date','level_1'],\n",
    "                            values=0,\n",
    "                            columns='level_0'\n",
    "                            ).reset_index()\n",
    "\n",
    "df_pivot = df_pivot.rename(columns={'level_1':'tic','Date':'datadate'})\n",
    "df_pivot.columns = df_pivot.columns.str.lower()\n",
    "df_pivot = df_pivot.rename(columns={'adj close':'adjcp'})\n",
    "\n",
    "df_pivot['datadate'] = df_pivot['datadate'].astype(str)\n",
    "df_pivot['datadate'] = df_pivot['datadate'].str.replace('-', '')"
   ]
  },
  {
   "cell_type": "code",
   "execution_count": 13,
   "metadata": {},
   "outputs": [],
   "source": [
    "# Save the dataframe (Note this file will now be read for the ensemble strategy!)\n",
    "df_pivot.drop(columns=['open','close','high','low','volume','sentiment']).to_csv(r'/Applications/Studium/Master/Masterarbeit/AADRL/evaluate_agents/prepared_data_ensemble.csv')"
   ]
  }
 ],
 "metadata": {
  "kernelspec": {
   "display_name": "Python 3",
   "language": "python",
   "name": "python3"
  },
  "language_info": {
   "codemirror_mode": {
    "name": "ipython",
    "version": 3
   },
   "file_extension": ".py",
   "mimetype": "text/x-python",
   "name": "python",
   "nbconvert_exporter": "python",
   "pygments_lexer": "ipython3",
   "version": "3.11.8"
  }
 },
 "nbformat": 4,
 "nbformat_minor": 2
}
