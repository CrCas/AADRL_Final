{
 "cells": [
  {
   "cell_type": "markdown",
   "metadata": {},
   "source": [
    "# Creation of Final Environment Data"
   ]
  },
  {
   "cell_type": "markdown",
   "metadata": {},
   "source": [
    "Based on the preprocessor class, this script creates the data for the agent-environment interaction. Furthermore, the turbulence index will be calculated."
   ]
  },
  {
   "cell_type": "markdown",
   "metadata": {},
   "source": [
    "## Import Libraries"
   ]
  },
  {
   "cell_type": "code",
   "execution_count": 1,
   "metadata": {},
   "outputs": [],
   "source": [
    "# Load the packages\n",
    "from preprocessor import Preprocessor\n",
    "import pandas as pd\n",
    "import numpy as np\n",
    "import seaborn as sns \n",
    "import matplotlib.pyplot as plt\n",
    "import matplotlib.dates as mdates"
   ]
  },
  {
   "cell_type": "markdown",
   "metadata": {},
   "source": [
    "## Create the data for the Agent Environment Interaction"
   ]
  },
  {
   "cell_type": "code",
   "execution_count": 2,
   "metadata": {},
   "outputs": [],
   "source": [
    "# Set the paths where the market data and sentiment analysis data lie\n",
    "MARKET_DATA_PATH = '/Applications/Studium/Master/Masterarbeit/AADRL/data/market_data.csv'\n",
    "SA_DATA_PATH = '/Applications/Studium/Master/Masterarbeit/AADRL/data/stock_sentiments_final.csv'"
   ]
  },
  {
   "cell_type": "code",
   "execution_count": 3,
   "metadata": {},
   "outputs": [],
   "source": [
    "# Read the financial data and the sentiments\n",
    "financial_market_data = pd.read_csv(MARKET_DATA_PATH,header = [0,1],index_col=0)\n",
    "sentiments = pd.read_csv(SA_DATA_PATH,index_col=0)"
   ]
  },
  {
   "cell_type": "code",
   "execution_count": 4,
   "metadata": {},
   "outputs": [],
   "source": [
    "# Initialize the preprocessor\n",
    "preprocessor = Preprocessor(financial_market_data, sentiments)"
   ]
  },
  {
   "cell_type": "code",
   "execution_count": 5,
   "metadata": {},
   "outputs": [],
   "source": [
    "# Get the final data\n",
    "df = preprocessor.get_preprocessed_data()"
   ]
  },
  {
   "cell_type": "code",
   "execution_count": 6,
   "metadata": {},
   "outputs": [
    {
     "data": {
      "text/html": [
       "<div>\n",
       "<style scoped>\n",
       "    .dataframe tbody tr th:only-of-type {\n",
       "        vertical-align: middle;\n",
       "    }\n",
       "\n",
       "    .dataframe tbody tr th {\n",
       "        vertical-align: top;\n",
       "    }\n",
       "\n",
       "    .dataframe thead tr th {\n",
       "        text-align: left;\n",
       "    }\n",
       "</style>\n",
       "<table border=\"1\" class=\"dataframe\">\n",
       "  <thead>\n",
       "    <tr>\n",
       "      <th></th>\n",
       "      <th colspan=\"10\" halign=\"left\">Adj Close</th>\n",
       "      <th>...</th>\n",
       "      <th colspan=\"10\" halign=\"left\">sentiment</th>\n",
       "    </tr>\n",
       "    <tr>\n",
       "      <th></th>\n",
       "      <th>MRK</th>\n",
       "      <th>MS</th>\n",
       "      <th>MU</th>\n",
       "      <th>NVDA</th>\n",
       "      <th>M</th>\n",
       "      <th>EBAY</th>\n",
       "      <th>NFLX</th>\n",
       "      <th>GILD</th>\n",
       "      <th>VZ</th>\n",
       "      <th>DAL</th>\n",
       "      <th>...</th>\n",
       "      <th>MS</th>\n",
       "      <th>MU</th>\n",
       "      <th>NFLX</th>\n",
       "      <th>NOK</th>\n",
       "      <th>NVDA</th>\n",
       "      <th>ORCL</th>\n",
       "      <th>PEP</th>\n",
       "      <th>QCOM</th>\n",
       "      <th>VZ</th>\n",
       "      <th>WFC</th>\n",
       "    </tr>\n",
       "  </thead>\n",
       "  <tbody>\n",
       "    <tr>\n",
       "      <th>2009-06-16</th>\n",
       "      <td>14.095046</td>\n",
       "      <td>20.710459</td>\n",
       "      <td>5.107066</td>\n",
       "      <td>2.524874</td>\n",
       "      <td>6.998578</td>\n",
       "      <td>6.644090</td>\n",
       "      <td>5.404286</td>\n",
       "      <td>16.246944</td>\n",
       "      <td>13.048951</td>\n",
       "      <td>5.421638</td>\n",
       "      <td>...</td>\n",
       "      <td>0.0</td>\n",
       "      <td>0.0</td>\n",
       "      <td>0.0</td>\n",
       "      <td>0.0</td>\n",
       "      <td>0.0</td>\n",
       "      <td>0.0</td>\n",
       "      <td>0.0</td>\n",
       "      <td>0.0</td>\n",
       "      <td>0.0</td>\n",
       "      <td>0.0</td>\n",
       "    </tr>\n",
       "    <tr>\n",
       "      <th>2009-06-17</th>\n",
       "      <td>14.291206</td>\n",
       "      <td>20.253498</td>\n",
       "      <td>5.205280</td>\n",
       "      <td>2.586792</td>\n",
       "      <td>6.986135</td>\n",
       "      <td>6.590103</td>\n",
       "      <td>5.771429</td>\n",
       "      <td>16.750980</td>\n",
       "      <td>13.154963</td>\n",
       "      <td>5.439241</td>\n",
       "      <td>...</td>\n",
       "      <td>0.0</td>\n",
       "      <td>0.0</td>\n",
       "      <td>0.0</td>\n",
       "      <td>0.0</td>\n",
       "      <td>0.0</td>\n",
       "      <td>0.0</td>\n",
       "      <td>0.0</td>\n",
       "      <td>0.0</td>\n",
       "      <td>0.0</td>\n",
       "      <td>0.0</td>\n",
       "    </tr>\n",
       "    <tr>\n",
       "      <th>2009-06-18</th>\n",
       "      <td>14.798928</td>\n",
       "      <td>20.658859</td>\n",
       "      <td>5.165993</td>\n",
       "      <td>2.536340</td>\n",
       "      <td>6.612875</td>\n",
       "      <td>6.601671</td>\n",
       "      <td>5.901429</td>\n",
       "      <td>17.107851</td>\n",
       "      <td>13.291905</td>\n",
       "      <td>5.263214</td>\n",
       "      <td>...</td>\n",
       "      <td>0.0</td>\n",
       "      <td>0.0</td>\n",
       "      <td>0.0</td>\n",
       "      <td>0.0</td>\n",
       "      <td>0.0</td>\n",
       "      <td>0.0</td>\n",
       "      <td>0.0</td>\n",
       "      <td>0.0</td>\n",
       "      <td>0.0</td>\n",
       "      <td>0.0</td>\n",
       "    </tr>\n",
       "    <tr>\n",
       "      <th>2009-06-19</th>\n",
       "      <td>14.948934</td>\n",
       "      <td>20.835751</td>\n",
       "      <td>5.234743</td>\n",
       "      <td>2.563860</td>\n",
       "      <td>7.085671</td>\n",
       "      <td>6.663369</td>\n",
       "      <td>5.941429</td>\n",
       "      <td>17.299177</td>\n",
       "      <td>13.101957</td>\n",
       "      <td>5.342426</td>\n",
       "      <td>...</td>\n",
       "      <td>0.0</td>\n",
       "      <td>0.0</td>\n",
       "      <td>0.0</td>\n",
       "      <td>0.0</td>\n",
       "      <td>0.0</td>\n",
       "      <td>0.0</td>\n",
       "      <td>0.0</td>\n",
       "      <td>0.0</td>\n",
       "      <td>0.0</td>\n",
       "      <td>0.0</td>\n",
       "    </tr>\n",
       "    <tr>\n",
       "      <th>2009-06-22</th>\n",
       "      <td>14.527760</td>\n",
       "      <td>19.627028</td>\n",
       "      <td>4.930284</td>\n",
       "      <td>2.419385</td>\n",
       "      <td>7.073227</td>\n",
       "      <td>6.343312</td>\n",
       "      <td>5.792857</td>\n",
       "      <td>17.041634</td>\n",
       "      <td>13.260982</td>\n",
       "      <td>4.972769</td>\n",
       "      <td>...</td>\n",
       "      <td>0.0</td>\n",
       "      <td>0.0</td>\n",
       "      <td>0.0</td>\n",
       "      <td>0.0</td>\n",
       "      <td>0.0</td>\n",
       "      <td>0.0</td>\n",
       "      <td>0.0</td>\n",
       "      <td>0.0</td>\n",
       "      <td>0.0</td>\n",
       "      <td>0.0</td>\n",
       "    </tr>\n",
       "    <tr>\n",
       "      <th>...</th>\n",
       "      <td>...</td>\n",
       "      <td>...</td>\n",
       "      <td>...</td>\n",
       "      <td>...</td>\n",
       "      <td>...</td>\n",
       "      <td>...</td>\n",
       "      <td>...</td>\n",
       "      <td>...</td>\n",
       "      <td>...</td>\n",
       "      <td>...</td>\n",
       "      <td>...</td>\n",
       "      <td>...</td>\n",
       "      <td>...</td>\n",
       "      <td>...</td>\n",
       "      <td>...</td>\n",
       "      <td>...</td>\n",
       "      <td>...</td>\n",
       "      <td>...</td>\n",
       "      <td>...</td>\n",
       "      <td>...</td>\n",
       "      <td>...</td>\n",
       "    </tr>\n",
       "    <tr>\n",
       "      <th>2020-06-08</th>\n",
       "      <td>69.859848</td>\n",
       "      <td>44.060913</td>\n",
       "      <td>52.740288</td>\n",
       "      <td>87.795670</td>\n",
       "      <td>8.689130</td>\n",
       "      <td>45.685234</td>\n",
       "      <td>419.489990</td>\n",
       "      <td>65.257004</td>\n",
       "      <td>46.476688</td>\n",
       "      <td>36.632431</td>\n",
       "      <td>...</td>\n",
       "      <td>1.0</td>\n",
       "      <td>0.0</td>\n",
       "      <td>0.0</td>\n",
       "      <td>0.0</td>\n",
       "      <td>-1.0</td>\n",
       "      <td>0.0</td>\n",
       "      <td>0.0</td>\n",
       "      <td>0.0</td>\n",
       "      <td>0.0</td>\n",
       "      <td>0.0</td>\n",
       "    </tr>\n",
       "    <tr>\n",
       "      <th>2020-06-09</th>\n",
       "      <td>69.320518</td>\n",
       "      <td>44.280560</td>\n",
       "      <td>52.200108</td>\n",
       "      <td>90.198700</td>\n",
       "      <td>8.070429</td>\n",
       "      <td>46.651081</td>\n",
       "      <td>434.049988</td>\n",
       "      <td>65.782646</td>\n",
       "      <td>46.292664</td>\n",
       "      <td>33.857990</td>\n",
       "      <td>...</td>\n",
       "      <td>0.0</td>\n",
       "      <td>0.0</td>\n",
       "      <td>1.0</td>\n",
       "      <td>0.0</td>\n",
       "      <td>1.0</td>\n",
       "      <td>0.0</td>\n",
       "      <td>0.0</td>\n",
       "      <td>1.0</td>\n",
       "      <td>0.0</td>\n",
       "      <td>1.0</td>\n",
       "    </tr>\n",
       "    <tr>\n",
       "      <th>2020-06-10</th>\n",
       "      <td>68.907585</td>\n",
       "      <td>42.778191</td>\n",
       "      <td>51.532269</td>\n",
       "      <td>93.396950</td>\n",
       "      <td>7.224262</td>\n",
       "      <td>46.182224</td>\n",
       "      <td>434.480011</td>\n",
       "      <td>65.341774</td>\n",
       "      <td>46.444679</td>\n",
       "      <td>31.351095</td>\n",
       "      <td>...</td>\n",
       "      <td>-1.0</td>\n",
       "      <td>0.0</td>\n",
       "      <td>1.0</td>\n",
       "      <td>0.0</td>\n",
       "      <td>1.0</td>\n",
       "      <td>0.0</td>\n",
       "      <td>0.0</td>\n",
       "      <td>0.0</td>\n",
       "      <td>0.0</td>\n",
       "      <td>-1.0</td>\n",
       "    </tr>\n",
       "    <tr>\n",
       "      <th>2020-06-11</th>\n",
       "      <td>65.182861</td>\n",
       "      <td>39.158428</td>\n",
       "      <td>47.652859</td>\n",
       "      <td>87.708427</td>\n",
       "      <td>6.150632</td>\n",
       "      <td>44.953819</td>\n",
       "      <td>425.559998</td>\n",
       "      <td>62.305210</td>\n",
       "      <td>45.164551</td>\n",
       "      <td>26.951637</td>\n",
       "      <td>...</td>\n",
       "      <td>-1.0</td>\n",
       "      <td>0.0</td>\n",
       "      <td>-1.0</td>\n",
       "      <td>-1.0</td>\n",
       "      <td>0.0</td>\n",
       "      <td>-1.0</td>\n",
       "      <td>-1.0</td>\n",
       "      <td>0.0</td>\n",
       "      <td>-1.0</td>\n",
       "      <td>-1.0</td>\n",
       "    </tr>\n",
       "    <tr>\n",
       "      <th>2020-06-12</th>\n",
       "      <td>64.809135</td>\n",
       "      <td>40.660805</td>\n",
       "      <td>47.819820</td>\n",
       "      <td>89.066986</td>\n",
       "      <td>6.641953</td>\n",
       "      <td>44.691273</td>\n",
       "      <td>418.070007</td>\n",
       "      <td>62.613144</td>\n",
       "      <td>45.228558</td>\n",
       "      <td>30.152143</td>\n",
       "      <td>...</td>\n",
       "      <td>0.0</td>\n",
       "      <td>0.0</td>\n",
       "      <td>0.0</td>\n",
       "      <td>0.0</td>\n",
       "      <td>0.0</td>\n",
       "      <td>0.0</td>\n",
       "      <td>0.0</td>\n",
       "      <td>0.0</td>\n",
       "      <td>0.0</td>\n",
       "      <td>0.0</td>\n",
       "    </tr>\n",
       "  </tbody>\n",
       "</table>\n",
       "<p>2768 rows × 180 columns</p>\n",
       "</div>"
      ],
      "text/plain": [
       "            Adj Close                                                        \\\n",
       "                  MRK         MS         MU       NVDA         M       EBAY   \n",
       "2009-06-16  14.095046  20.710459   5.107066   2.524874  6.998578   6.644090   \n",
       "2009-06-17  14.291206  20.253498   5.205280   2.586792  6.986135   6.590103   \n",
       "2009-06-18  14.798928  20.658859   5.165993   2.536340  6.612875   6.601671   \n",
       "2009-06-19  14.948934  20.835751   5.234743   2.563860  7.085671   6.663369   \n",
       "2009-06-22  14.527760  19.627028   4.930284   2.419385  7.073227   6.343312   \n",
       "...               ...        ...        ...        ...       ...        ...   \n",
       "2020-06-08  69.859848  44.060913  52.740288  87.795670  8.689130  45.685234   \n",
       "2020-06-09  69.320518  44.280560  52.200108  90.198700  8.070429  46.651081   \n",
       "2020-06-10  68.907585  42.778191  51.532269  93.396950  7.224262  46.182224   \n",
       "2020-06-11  65.182861  39.158428  47.652859  87.708427  6.150632  44.953819   \n",
       "2020-06-12  64.809135  40.660805  47.819820  89.066986  6.641953  44.691273   \n",
       "\n",
       "                                                         ... sentiment       \\\n",
       "                  NFLX       GILD         VZ        DAL  ...        MS   MU   \n",
       "2009-06-16    5.404286  16.246944  13.048951   5.421638  ...       0.0  0.0   \n",
       "2009-06-17    5.771429  16.750980  13.154963   5.439241  ...       0.0  0.0   \n",
       "2009-06-18    5.901429  17.107851  13.291905   5.263214  ...       0.0  0.0   \n",
       "2009-06-19    5.941429  17.299177  13.101957   5.342426  ...       0.0  0.0   \n",
       "2009-06-22    5.792857  17.041634  13.260982   4.972769  ...       0.0  0.0   \n",
       "...                ...        ...        ...        ...  ...       ...  ...   \n",
       "2020-06-08  419.489990  65.257004  46.476688  36.632431  ...       1.0  0.0   \n",
       "2020-06-09  434.049988  65.782646  46.292664  33.857990  ...       0.0  0.0   \n",
       "2020-06-10  434.480011  65.341774  46.444679  31.351095  ...      -1.0  0.0   \n",
       "2020-06-11  425.559998  62.305210  45.164551  26.951637  ...      -1.0  0.0   \n",
       "2020-06-12  418.070007  62.613144  45.228558  30.152143  ...       0.0  0.0   \n",
       "\n",
       "                                                    \n",
       "           NFLX  NOK NVDA ORCL  PEP QCOM   VZ  WFC  \n",
       "2009-06-16  0.0  0.0  0.0  0.0  0.0  0.0  0.0  0.0  \n",
       "2009-06-17  0.0  0.0  0.0  0.0  0.0  0.0  0.0  0.0  \n",
       "2009-06-18  0.0  0.0  0.0  0.0  0.0  0.0  0.0  0.0  \n",
       "2009-06-19  0.0  0.0  0.0  0.0  0.0  0.0  0.0  0.0  \n",
       "2009-06-22  0.0  0.0  0.0  0.0  0.0  0.0  0.0  0.0  \n",
       "...         ...  ...  ...  ...  ...  ...  ...  ...  \n",
       "2020-06-08  0.0  0.0 -1.0  0.0  0.0  0.0  0.0  0.0  \n",
       "2020-06-09  1.0  0.0  1.0  0.0  0.0  1.0  0.0  1.0  \n",
       "2020-06-10  1.0  0.0  1.0  0.0  0.0  0.0  0.0 -1.0  \n",
       "2020-06-11 -1.0 -1.0  0.0 -1.0 -1.0  0.0 -1.0 -1.0  \n",
       "2020-06-12  0.0  0.0  0.0  0.0  0.0  0.0  0.0  0.0  \n",
       "\n",
       "[2768 rows x 180 columns]"
      ]
     },
     "execution_count": 6,
     "metadata": {},
     "output_type": "execute_result"
    }
   ],
   "source": [
    "df"
   ]
  },
  {
   "cell_type": "code",
   "execution_count": 7,
   "metadata": {},
   "outputs": [
    {
     "name": "stdout",
     "output_type": "stream",
     "text": [
      "0 0\n"
     ]
    }
   ],
   "source": [
    "# Check that dataframe does not contain NaN values\n",
    "print(df.isna().any(axis = 1).sum(),df.isna().any(axis = 0).sum())"
   ]
  },
  {
   "cell_type": "code",
   "execution_count": 8,
   "metadata": {},
   "outputs": [],
   "source": [
    "# Save the market data \n",
    "df.to_csv('/Applications/Studium/Master/Masterarbeit/AADRL/data/agent_environment_data.csv',index=True)"
   ]
  },
  {
   "cell_type": "markdown",
   "metadata": {},
   "source": [
    "## Calculate Turbulence Index"
   ]
  },
  {
   "cell_type": "code",
   "execution_count": 13,
   "metadata": {},
   "outputs": [],
   "source": [
    "# Read the agent-environment data\n",
    "df = pd.read_csv('/Applications/Studium/Master/Masterarbeit/AADRL/data/agent_environment_data.csv', \n",
    "                 header=[0,1],index_col=0)"
   ]
  },
  {
   "cell_type": "code",
   "execution_count": 14,
   "metadata": {},
   "outputs": [],
   "source": [
    "# Get the close prices and define the starting date for the test dataset\n",
    "close_prices = df['Adj Close']\n",
    "start_test = '2016-01-04' # 2016-01-01 not available "
   ]
  },
  {
   "cell_type": "code",
   "execution_count": 15,
   "metadata": {},
   "outputs": [],
   "source": [
    "# Calculate the returns\n",
    "returns = close_prices.pct_change()"
   ]
  },
  {
   "cell_type": "code",
   "execution_count": 16,
   "metadata": {},
   "outputs": [],
   "source": [
    "# Split the upper dataframe into training and test dataset\n",
    "training_returns = returns.loc[:returns.index[returns.index == start_test][0]].iloc[:-1]\n",
    "test_returns = returns.loc[returns.index[returns.index == start_test][0]:]"
   ]
  },
  {
   "cell_type": "code",
   "execution_count": 17,
   "metadata": {},
   "outputs": [],
   "source": [
    "# Calculate covariance and means over training dataset (similar to the paper 'Skulls, Financial Turbulence, and Risk Management')\n",
    "cov_training = training_returns.cov()\n",
    "means_training = training_returns.mean()"
   ]
  },
  {
   "cell_type": "code",
   "execution_count": 18,
   "metadata": {},
   "outputs": [],
   "source": [
    "# Calculate the turbulence for each return\n",
    "calc_turbulence = lambda r: (r-means_training).dot(np.linalg.inv(cov_training)).dot((r-means_training).T)  \n",
    "turbulences_training = training_returns.apply(calc_turbulence,axis=1)"
   ]
  },
  {
   "cell_type": "code",
   "execution_count": 19,
   "metadata": {},
   "outputs": [
    {
     "name": "stdout",
     "output_type": "stream",
     "text": [
      "72.17774935546251 54.57399788727979 137.34719240516966\n"
     ]
    }
   ],
   "source": [
    "# Get the quantile\n",
    "quantile_95 = turbulences_training.quantile(0.95)\n",
    "quantile_90 = turbulences_training.quantile(0.90)\n",
    "quantile_99 = turbulences_training.quantile(0.99)\n",
    "\n",
    "print(quantile_95,quantile_90,quantile_99)"
   ]
  },
  {
   "cell_type": "code",
   "execution_count": 20,
   "metadata": {},
   "outputs": [],
   "source": [
    "# Calculate the turbulences on the test dataset\n",
    "turbulences_test = test_returns.apply(calc_turbulence,axis=1)"
   ]
  },
  {
   "cell_type": "code",
   "execution_count": 21,
   "metadata": {},
   "outputs": [],
   "source": [
    "# Create one dataframe that contains all the turbulences\n",
    "turbulences = pd.concat([turbulences_training,turbulences_test])"
   ]
  },
  {
   "cell_type": "code",
   "execution_count": 22,
   "metadata": {},
   "outputs": [
    {
     "data": {
      "image/png": "[encoded data removed]",
      "text/plain": [
       "<Figure size 1100x400 with 1 Axes>"
      ]
     },
     "metadata": {},
     "output_type": "display_data"
    }
   ],
   "source": [
    "# Display for each date the turbulence\n",
    "plt.figure(figsize=(11, 4))\n",
    "sns.set_theme()\n",
    "bars = plt.bar(x=pd.to_datetime(turbulences.index), height=turbulences.values)\n",
    "\n",
    "# Change the color of the bars based on their height\n",
    "for bar in bars:\n",
    "    if bar.get_height() > quantile_95:\n",
    "        bar.set_color('red')\n",
    "    else:\n",
    "        bar.set_color('blue')\n",
    "\n",
    "\n",
    "xticks = pd.to_datetime(turbulences.index)\n",
    "plt.xticks(ticks=xticks[::100],rotation=90)\n",
    "plt.ylabel('Turbulenz-Index')\n",
    "plt.gca().xaxis.set_major_formatter(mdates.DateFormatter('%d-%m-%Y'))\n",
    "plt.show()"
   ]
  },
  {
   "cell_type": "code",
   "execution_count": 24,
   "metadata": {},
   "outputs": [],
   "source": [
    "# Save the dataframe\n",
    "turbulences = pd.DataFrame({'Turbulences':turbulences},index=turbulences.index)\n",
    "turbulences.to_csv(r'/Applications/Studium/Master/Masterarbeit/AADRL/data/turbulence_index.csv')"
   ]
  }
 ],
 "metadata": {
  "kernelspec": {
   "display_name": ".venv_AADRL",
   "language": "python",
   "name": "python3"
  },
  "language_info": {
   "codemirror_mode": {
    "name": "ipython",
    "version": 3
   },
   "file_extension": ".py",
   "mimetype": "text/x-python",
   "name": "python",
   "nbconvert_exporter": "python",
   "pygments_lexer": "ipython3",
   "version": "3.11.8"
  }
 },
 "nbformat": 4,
 "nbformat_minor": 2
}
